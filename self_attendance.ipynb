{
 "cells": [
  {
   "cell_type": "code",
   "execution_count": 37,
   "metadata": {},
   "outputs": [
    {
     "name": "stdout",
     "output_type": "stream",
     "text": [
      "Thu Jul 25 12:09:08 2024\n",
      "1721889548.6730888\n",
      "4587\n"
     ]
    }
   ],
   "source": [
    "import time as t\n",
    "import smtplib\n",
    "import random as r\n",
    "print(t.ctime())\n",
    "print(t.time())\n",
    "print(int(r.random()*10000))"
   ]
  },
  {
   "cell_type": "code",
   "execution_count": 38,
   "metadata": {},
   "outputs": [],
   "source": [
    "import xlwt \n",
    "wb = xlwt.Workbook()\n",
    "sh1 = wb.add_sheet('info')\n",
    "sh1.write(0,0,'SN')\n",
    "sh1.write(0,1,'ID')\n",
    "sh1.write(0,2,'Name')\n",
    "sh1.write(0,3,'Email')\n",
    "sh1.write(0,4,'Mobile No.')\n",
    "wb.save(r'C:\\Users\\Vishal singh\\Desktop\\Project\\Python\\Attendance.xlsx')"
   ]
  },
  {
   "cell_type": "code",
   "execution_count": 4,
   "metadata": {},
   "outputs": [
    {
     "name": "stdout",
     "output_type": "stream",
     "text": [
      "1\n",
      "['SN', 'ID', 'Name', 'Email', 'Mobile No.']\n",
      "[1.0, '2103611650061', 'Vishal Singh', 'v36161@gmail.com', '8935064877']\n",
      "[2.0, '2103611650004', 'Abhishek Rana', 'rana420@gmail.com', '8975643241']\n",
      "[3.0, '21036101300016', 'Ankit Singh', 'ankitsingh@gmail.com', 8795584836.0]\n",
      "[4.0, '2103611650001', 'Aashu Pandey', 'assup@gmail.com', '96548963']\n",
      "[5.0, '21036116500062', 'Yashfa Shafiq', 'yashfa420@gmail.com', '854763218']\n"
     ]
    }
   ],
   "source": [
    "import xlrd\n",
    "rb = xlrd.open_workbook(r'Attendance.xlsx')\n",
    "print(rb.nsheets)\n",
    "sh = rb.sheet_by_name('info')\n",
    "rn = sh.nrows\n",
    "for i in range(0,rn):\n",
    "    t= sh.row_values(i)\n",
    "    print(t)\n"
   ]
  },
  {
   "cell_type": "code",
   "execution_count": 5,
   "metadata": {},
   "outputs": [],
   "source": [
    "import xlutils.copy\n",
    "\n",
    "# assume rb is the original workbook\n",
    "wbb = xlutils.copy.copy(rb)\n",
    "shd0 = wbb.get_sheet(0)\n",
    "\n",
    "id = input(\"Enter your ID :\")\n",
    "name = input(\"Enter your name :\")\n",
    "email = input(\"Enter your Email :\")\n",
    "phone = input(\"Enter your Phone :\")\n",
    "\n",
    "\n",
    "# write data to the sheet\n",
    "shd0.write(rn, 0, rn)\n",
    "shd0.write(rn, 1, id)\n",
    "shd0.write(rn, 2, name)\n",
    "shd0.write(rn, 3, email)\n",
    "shd0.write(rn, 4, phone)\n",
    "\n",
    "# save the workbook with the correct file format\n",
    "wbb.save(r'C:\\Users\\Vishal singh\\Desktop\\Project\\Python\\Attendance.xlsx')"
   ]
  },
  {
   "cell_type": "code",
   "execution_count": null,
   "metadata": {},
   "outputs": [],
   "source": [
    "import pyqrcode\n",
    "import cv2\n",
    "\n",
    "# Create a QR code\n",
    "data = input(\"Enter your data to encode: \")\n",
    "url = pyqrcode.create(data)\n",
    "url.png('qr_code.png', scale=10)\n",
    "\n",
    "# Decode the QR code\n",
    "image = cv2.imread('qr_code.png')\n",
    "detector = cv2.QRCodeDetector()\n",
    "decoded_qr, points, _ = detector.detectAndDecode(image)\n",
    "\n",
    "# Print the decoded data\n",
    "if decoded_qr:\n",
    "    print(\"Data:\", decoded_qr)\n",
    "\n",
    "# Display the image\n",
    "cv2.imshow(\"Image\", image)\n",
    "cv2.waitKey(0)\n",
    "cv2.destroyAllWindows()"
   ]
  },
  {
   "cell_type": "code",
   "execution_count": 15,
   "metadata": {},
   "outputs": [],
   "source": [
    "import cv2\n",
    "v = cv2.VideoCapture(0)\n",
    "while True:\n",
    "    ret, frame = v.read()\n",
    "    cv2.rectangle(frame,(100,100),(500,500),(255,0,70),5)\n",
    "    cv2.imshow('image',frame)\n",
    "    k=cv2.waitKey(5)\n",
    "    if k==27:\n",
    "        break\n",
    "cv2.destroyAllWindows()"
   ]
  },
  {
   "cell_type": "code",
   "execution_count": null,
   "metadata": {},
   "outputs": [],
   "source": []
  }
 ],
 "metadata": {
  "kernelspec": {
   "display_name": "Python 3",
   "language": "python",
   "name": "python3"
  },
  "language_info": {
   "codemirror_mode": {
    "name": "ipython",
    "version": 3
   },
   "file_extension": ".py",
   "mimetype": "text/x-python",
   "name": "python",
   "nbconvert_exporter": "python",
   "pygments_lexer": "ipython3",
   "version": "3.10.6"
  }
 },
 "nbformat": 4,
 "nbformat_minor": 2
}
